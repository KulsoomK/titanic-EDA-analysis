{
 "cells": [
  {
   "cell_type": "markdown",
   "id": "4325f69b-c514-4d5a-a78f-a9d4c4f94dfa",
   "metadata": {},
   "source": [
    "# **Project Title:**\n",
    "\n",
    "## Exploratory Data Analysis (EDA) on the Titanic Dataset\n",
    "\n",
    "# **Project Description:**\n",
    "\n",
    "The Titanic dataset contains information about the passengers aboard the Titanic ship that tragically sank in 1912. This project focuses on performing exploratory data analysis to understand the dataset’s structure, clean and prepare the data, and visualize key factors influencing passenger survival. The goal is to uncover meaningful insights and patterns that help explain who survived and who didn’t, based on demographics and ticket details.\n",
    "\n",
    "## **Key Questions to Explore:**\n",
    "\n",
    "### 1. Data Overview and Quality\n",
    "\n",
    "* What are the data types and basic statistics of the dataset?\n",
    "* Are there missing values, and how should they be handled?\n",
    "\n",
    "### 2. Passenger Demographics\n",
    "\n",
    "* What is the age distribution of passengers?\n",
    "* How many passengers are male vs female?\n",
    "* How many passengers traveled alone versus with family?\n",
    "\n",
    "### 3. Survival Analysis\n",
    "\n",
    "* What percentage of passengers survived overall?\n",
    "* Did survival rates differ by gender?\n",
    "* How did passenger class affect survival?\n",
    "* Did age impact the likelihood of survival?\n",
    "\n",
    "### 4. Ticket and Fare Insights\n",
    "\n",
    "* How does the fare price relate to survival chances?\n",
    "* Are there differences in survival rates by port of embarkation?\n",
    "\n",
    "### 5. Relationships and Patterns\n",
    "\n",
    "* Is there a relationship between having family onboard and survival?\n",
    "* Are there any interesting correlations between features that could impact survival?\n",
    "\n",
    "---\n",
    "\n",
    "# **Project Goals:**\n",
    "\n",
    "* Clean and prepare the Titanic dataset for analysis.\n",
    "* Use visualizations (bar plots, histograms, box plots, heatmaps) to explore data.\n",
    "* Summarize findings clearly to build a foundation for potential predictive modeling."
   ]
  },
  {
   "cell_type": "code",
   "execution_count": 119,
   "id": "6115defc-b4ed-4378-9013-9581f45f3963",
   "metadata": {},
   "outputs": [],
   "source": [
    "import numpy as np\n",
    "import pandas as pd"
   ]
  },
  {
   "cell_type": "code",
   "execution_count": 120,
   "id": "654b218f-91d2-4f25-8980-78c056089a3e",
   "metadata": {},
   "outputs": [],
   "source": [
    "df = pd.read_csv('titanic.csv') # Load the dataset"
   ]
  },
  {
   "cell_type": "markdown",
   "id": "189211fc-3d85-4ba7-916d-2775483588b1",
   "metadata": {},
   "source": [
    "## 1. Data Overview and Quality\n",
    "- What are the data types and basic statistics of the dataset?\n",
    "- Are there missing values, and how should they be handled?"
   ]
  },
  {
   "cell_type": "code",
   "execution_count": 121,
   "id": "5283b469-2b1c-40bf-a4b9-ee1fd331e2f8",
   "metadata": {},
   "outputs": [
    {
     "name": "stdout",
     "output_type": "stream",
     "text": [
      "<class 'pandas.core.frame.DataFrame'>\n",
      "RangeIndex: 891 entries, 0 to 890\n",
      "Data columns (total 12 columns):\n",
      " #   Column       Non-Null Count  Dtype  \n",
      "---  ------       --------------  -----  \n",
      " 0   PassengerId  891 non-null    int64  \n",
      " 1   Survived     891 non-null    int64  \n",
      " 2   Pclass       891 non-null    int64  \n",
      " 3   Name         891 non-null    object \n",
      " 4   Sex          891 non-null    object \n",
      " 5   Age          714 non-null    float64\n",
      " 6   SibSp        891 non-null    int64  \n",
      " 7   Parch        891 non-null    int64  \n",
      " 8   Ticket       891 non-null    object \n",
      " 9   Fare         891 non-null    float64\n",
      " 10  Cabin        204 non-null    object \n",
      " 11  Embarked     889 non-null    object \n",
      "dtypes: float64(2), int64(5), object(5)\n",
      "memory usage: 83.7+ KB\n"
     ]
    }
   ],
   "source": [
    "df.info() # Overview of data types and non-null counts"
   ]
  },
  {
   "cell_type": "code",
   "execution_count": 122,
   "id": "19af2d5b-3748-49e6-a103-8c7bed1bb151",
   "metadata": {},
   "outputs": [
    {
     "data": {
      "text/html": [
       "<div>\n",
       "<style scoped>\n",
       "    .dataframe tbody tr th:only-of-type {\n",
       "        vertical-align: middle;\n",
       "    }\n",
       "\n",
       "    .dataframe tbody tr th {\n",
       "        vertical-align: top;\n",
       "    }\n",
       "\n",
       "    .dataframe thead th {\n",
       "        text-align: right;\n",
       "    }\n",
       "</style>\n",
       "<table border=\"1\" class=\"dataframe\">\n",
       "  <thead>\n",
       "    <tr style=\"text-align: right;\">\n",
       "      <th></th>\n",
       "      <th>PassengerId</th>\n",
       "      <th>Survived</th>\n",
       "      <th>Pclass</th>\n",
       "      <th>Age</th>\n",
       "      <th>SibSp</th>\n",
       "      <th>Parch</th>\n",
       "      <th>Fare</th>\n",
       "    </tr>\n",
       "  </thead>\n",
       "  <tbody>\n",
       "    <tr>\n",
       "      <th>count</th>\n",
       "      <td>891.000000</td>\n",
       "      <td>891.000000</td>\n",
       "      <td>891.000000</td>\n",
       "      <td>714.000000</td>\n",
       "      <td>891.000000</td>\n",
       "      <td>891.000000</td>\n",
       "      <td>891.000000</td>\n",
       "    </tr>\n",
       "    <tr>\n",
       "      <th>mean</th>\n",
       "      <td>446.000000</td>\n",
       "      <td>0.383838</td>\n",
       "      <td>2.308642</td>\n",
       "      <td>29.699118</td>\n",
       "      <td>0.523008</td>\n",
       "      <td>0.381594</td>\n",
       "      <td>32.204208</td>\n",
       "    </tr>\n",
       "    <tr>\n",
       "      <th>std</th>\n",
       "      <td>257.353842</td>\n",
       "      <td>0.486592</td>\n",
       "      <td>0.836071</td>\n",
       "      <td>14.526497</td>\n",
       "      <td>1.102743</td>\n",
       "      <td>0.806057</td>\n",
       "      <td>49.693429</td>\n",
       "    </tr>\n",
       "    <tr>\n",
       "      <th>min</th>\n",
       "      <td>1.000000</td>\n",
       "      <td>0.000000</td>\n",
       "      <td>1.000000</td>\n",
       "      <td>0.420000</td>\n",
       "      <td>0.000000</td>\n",
       "      <td>0.000000</td>\n",
       "      <td>0.000000</td>\n",
       "    </tr>\n",
       "    <tr>\n",
       "      <th>25%</th>\n",
       "      <td>223.500000</td>\n",
       "      <td>0.000000</td>\n",
       "      <td>2.000000</td>\n",
       "      <td>20.125000</td>\n",
       "      <td>0.000000</td>\n",
       "      <td>0.000000</td>\n",
       "      <td>7.910400</td>\n",
       "    </tr>\n",
       "    <tr>\n",
       "      <th>50%</th>\n",
       "      <td>446.000000</td>\n",
       "      <td>0.000000</td>\n",
       "      <td>3.000000</td>\n",
       "      <td>28.000000</td>\n",
       "      <td>0.000000</td>\n",
       "      <td>0.000000</td>\n",
       "      <td>14.454200</td>\n",
       "    </tr>\n",
       "    <tr>\n",
       "      <th>75%</th>\n",
       "      <td>668.500000</td>\n",
       "      <td>1.000000</td>\n",
       "      <td>3.000000</td>\n",
       "      <td>38.000000</td>\n",
       "      <td>1.000000</td>\n",
       "      <td>0.000000</td>\n",
       "      <td>31.000000</td>\n",
       "    </tr>\n",
       "    <tr>\n",
       "      <th>max</th>\n",
       "      <td>891.000000</td>\n",
       "      <td>1.000000</td>\n",
       "      <td>3.000000</td>\n",
       "      <td>80.000000</td>\n",
       "      <td>8.000000</td>\n",
       "      <td>6.000000</td>\n",
       "      <td>512.329200</td>\n",
       "    </tr>\n",
       "  </tbody>\n",
       "</table>\n",
       "</div>"
      ],
      "text/plain": [
       "       PassengerId    Survived      Pclass         Age       SibSp  \\\n",
       "count   891.000000  891.000000  891.000000  714.000000  891.000000   \n",
       "mean    446.000000    0.383838    2.308642   29.699118    0.523008   \n",
       "std     257.353842    0.486592    0.836071   14.526497    1.102743   \n",
       "min       1.000000    0.000000    1.000000    0.420000    0.000000   \n",
       "25%     223.500000    0.000000    2.000000   20.125000    0.000000   \n",
       "50%     446.000000    0.000000    3.000000   28.000000    0.000000   \n",
       "75%     668.500000    1.000000    3.000000   38.000000    1.000000   \n",
       "max     891.000000    1.000000    3.000000   80.000000    8.000000   \n",
       "\n",
       "            Parch        Fare  \n",
       "count  891.000000  891.000000  \n",
       "mean     0.381594   32.204208  \n",
       "std      0.806057   49.693429  \n",
       "min      0.000000    0.000000  \n",
       "25%      0.000000    7.910400  \n",
       "50%      0.000000   14.454200  \n",
       "75%      0.000000   31.000000  \n",
       "max      6.000000  512.329200  "
      ]
     },
     "execution_count": 122,
     "metadata": {},
     "output_type": "execute_result"
    }
   ],
   "source": [
    "df.describe() # Basic statistical summary for numerical columns"
   ]
  },
  {
   "cell_type": "markdown",
   "id": "1e680399-c84b-4722-8440-991d02f77e30",
   "metadata": {},
   "source": [
    "This table presents descriptive statistics for the numerical columns in the Titanic dataset. Each column shows the number of non-missing values, central tendencies (mean and median), dispersion (standard deviation), and range (minimum to maximum). For instance, the Age column has 714 recorded values, ranging from less than 1 year to 80 years old, with an average age of approximately 30. The Survived column is binary, with roughly 38% of passengers surviving. Passenger classes (Pclass) mostly fall into the 2nd and 3rd categories. The Fare column varies greatly, with some passengers paying no fare and others paying over 500. This summary helps in understanding the distribution and quality of the numerical data before further analysis."
   ]
  },
  {
   "cell_type": "code",
   "execution_count": 123,
   "id": "3885ad1d-bd92-4da0-b7e4-5518d486f1d7",
   "metadata": {},
   "outputs": [
    {
     "data": {
      "text/html": [
       "<div>\n",
       "<style scoped>\n",
       "    .dataframe tbody tr th:only-of-type {\n",
       "        vertical-align: middle;\n",
       "    }\n",
       "\n",
       "    .dataframe tbody tr th {\n",
       "        vertical-align: top;\n",
       "    }\n",
       "\n",
       "    .dataframe thead th {\n",
       "        text-align: right;\n",
       "    }\n",
       "</style>\n",
       "<table border=\"1\" class=\"dataframe\">\n",
       "  <thead>\n",
       "    <tr style=\"text-align: right;\">\n",
       "      <th></th>\n",
       "      <th>Name</th>\n",
       "      <th>Sex</th>\n",
       "      <th>Ticket</th>\n",
       "      <th>Cabin</th>\n",
       "      <th>Embarked</th>\n",
       "    </tr>\n",
       "  </thead>\n",
       "  <tbody>\n",
       "    <tr>\n",
       "      <th>count</th>\n",
       "      <td>891</td>\n",
       "      <td>891</td>\n",
       "      <td>891</td>\n",
       "      <td>204</td>\n",
       "      <td>889</td>\n",
       "    </tr>\n",
       "    <tr>\n",
       "      <th>unique</th>\n",
       "      <td>891</td>\n",
       "      <td>2</td>\n",
       "      <td>681</td>\n",
       "      <td>147</td>\n",
       "      <td>3</td>\n",
       "    </tr>\n",
       "    <tr>\n",
       "      <th>top</th>\n",
       "      <td>Braund, Mr. Owen Harris</td>\n",
       "      <td>male</td>\n",
       "      <td>347082</td>\n",
       "      <td>B96 B98</td>\n",
       "      <td>S</td>\n",
       "    </tr>\n",
       "    <tr>\n",
       "      <th>freq</th>\n",
       "      <td>1</td>\n",
       "      <td>577</td>\n",
       "      <td>7</td>\n",
       "      <td>4</td>\n",
       "      <td>644</td>\n",
       "    </tr>\n",
       "  </tbody>\n",
       "</table>\n",
       "</div>"
      ],
      "text/plain": [
       "                           Name   Sex  Ticket    Cabin Embarked\n",
       "count                       891   891     891      204      889\n",
       "unique                      891     2     681      147        3\n",
       "top     Braund, Mr. Owen Harris  male  347082  B96 B98        S\n",
       "freq                          1   577       7        4      644"
      ]
     },
     "execution_count": 123,
     "metadata": {},
     "output_type": "execute_result"
    }
   ],
   "source": [
    "df.describe(include=['object']) # For categorical columns, get unique values and counts"
   ]
  },
  {
   "cell_type": "markdown",
   "id": "29c81203-ceaf-4407-83fb-530e3960e59c",
   "metadata": {},
   "source": [
    "The information summarized here is derived from examining the categorical columns in the Titanic dataset. In this dataset, the Name column contains unique values for all 891 passengers, indicating no duplicates or missing data. The Sex column has two categories, with males being the majority (577 out of 891). The Ticket column contains many unique ticket numbers, though some tickets are shared by multiple passengers, with the most common ticket appearing 7 times. The Cabin column has substantial missing data, with only 204 recorded entries out of 891 passengers and 147 unique cabin identifiers, the most frequent being \"B96 B98.\" Lastly, the Embarked column, representing the port of embarkation, has two missing values and three unique categories; most passengers boarded at Southampton (S), which accounts for 644 entries."
   ]
  },
  {
   "cell_type": "markdown",
   "id": "c0acbb4a-96eb-47e6-b024-ed4cebccafc4",
   "metadata": {},
   "source": [
    "### 1.1 Identify Missing Values"
   ]
  },
  {
   "cell_type": "code",
   "execution_count": 124,
   "id": "4a217511-dba8-46c7-b907-1ed9ff087537",
   "metadata": {},
   "outputs": [
    {
     "data": {
      "text/plain": [
       "PassengerId      0\n",
       "Survived         0\n",
       "Pclass           0\n",
       "Name             0\n",
       "Sex              0\n",
       "Age            177\n",
       "SibSp            0\n",
       "Parch            0\n",
       "Ticket           0\n",
       "Fare             0\n",
       "Cabin          687\n",
       "Embarked         2\n",
       "dtype: int64"
      ]
     },
     "execution_count": 124,
     "metadata": {},
     "output_type": "execute_result"
    }
   ],
   "source": [
    "df.isnull().sum()"
   ]
  },
  {
   "cell_type": "markdown",
   "id": "26a543ad-59fe-4daa-b369-aa66190c5f30",
   "metadata": {},
   "source": [
    "The dataset has no missing values in most columns like PassengerId, Survived, Pclass, Name, Sex, SibSp, Parch, Ticket, and Fare. However, the Age column has 177 missing entries, and the Cabin column has a large number of missing values—687 in total. The Embarked column has 2 missing values. These missing data points will need to be addressed, typically by imputing values for Age and Embarked, while the Cabin column may be dropped or handled separately due to the high number of missing entries."
   ]
  },
  {
   "cell_type": "markdown",
   "id": "4608bae6-6e24-4dc8-842a-131a2fa31f40",
   "metadata": {},
   "source": [
    "#### 1.1.1. Age: Since 177 values are missing, a common approach is to fill (impute) those with the median age, which is less affected by outliers than the mean."
   ]
  },
  {
   "cell_type": "code",
   "execution_count": 125,
   "id": "e528b60e-8bbe-4302-810c-3abc6b9e2f0b",
   "metadata": {},
   "outputs": [
    {
     "data": {
      "text/plain": [
       "0      22.0\n",
       "1      38.0\n",
       "2      26.0\n",
       "3      35.0\n",
       "4      35.0\n",
       "       ... \n",
       "886    27.0\n",
       "887    19.0\n",
       "888    28.0\n",
       "889    26.0\n",
       "890    32.0\n",
       "Name: Age, Length: 891, dtype: float64"
      ]
     },
     "execution_count": 125,
     "metadata": {},
     "output_type": "execute_result"
    }
   ],
   "source": [
    "# Fill missing Age with median\n",
    "df['Age'] = df['Age'].fillna(df['Age'].median())\n",
    "df['Age']"
   ]
  },
  {
   "cell_type": "markdown",
   "id": "a4ba709a-9150-41ac-877a-4be240f92cb1",
   "metadata": {},
   "source": [
    "The output you see is the entire Age column after filling in the missing values with the median. So wherever there were empty (missing) ages before, now you’ll see the median age instead. The numbers you see include both the original ages and the replaced median values."
   ]
  },
  {
   "cell_type": "markdown",
   "id": "7042588f-583a-4088-b13b-38746ec86047",
   "metadata": {},
   "source": [
    "#### 1.1.2. Cabin: With 687 missing values, the easiest way is to drop this column because so much data is missing. Alternatively, you could create a new feature indicating whether a cabin number is known or not:"
   ]
  },
  {
   "cell_type": "code",
   "execution_count": 126,
   "id": "eeb71597-07fc-4a06-a4e1-e7c586ed1aa4",
   "metadata": {},
   "outputs": [],
   "source": [
    "df.drop(columns=['Cabin'], inplace=True)"
   ]
  },
  {
   "cell_type": "code",
   "execution_count": 127,
   "id": "48a657f9-6c9e-41aa-8156-45611b71ac0e",
   "metadata": {},
   "outputs": [
    {
     "name": "stdout",
     "output_type": "stream",
     "text": [
      "Index(['PassengerId', 'Survived', 'Pclass', 'Name', 'Sex', 'Age', 'SibSp',\n",
      "       'Parch', 'Ticket', 'Fare', 'Embarked'],\n",
      "      dtype='object')\n"
     ]
    }
   ],
   "source": [
    "print(df.columns)"
   ]
  },
  {
   "cell_type": "markdown",
   "id": "1f38e86e-e4e6-49b2-a637-b67b3bde153f",
   "metadata": {},
   "source": [
    "The output lists all the column names in your DataFrame, showing what data fields are available to use or modify."
   ]
  },
  {
   "cell_type": "markdown",
   "id": "1765caee-1581-4042-bb2f-5c757185e362",
   "metadata": {},
   "source": [
    "#### 1.1.3. Embarked: Only 2 missing values here. Fill these with the most frequent port of embarkation (mode):"
   ]
  },
  {
   "cell_type": "code",
   "execution_count": 128,
   "id": "8d4f1e55-e8d3-4be6-b378-29e38d6f3102",
   "metadata": {},
   "outputs": [
    {
     "data": {
      "text/plain": [
       "0      S\n",
       "1      C\n",
       "2      S\n",
       "3      S\n",
       "4      S\n",
       "      ..\n",
       "886    S\n",
       "887    S\n",
       "888    S\n",
       "889    C\n",
       "890    Q\n",
       "Name: Embarked, Length: 891, dtype: object"
      ]
     },
     "execution_count": 128,
     "metadata": {},
     "output_type": "execute_result"
    }
   ],
   "source": [
    "df['Embarked'] = df['Embarked'].fillna(df['Embarked'].mode()[0])\n",
    "df['Embarked']"
   ]
  },
  {
   "cell_type": "markdown",
   "id": "ae4a5da3-0f46-4bdd-930f-99e84c8f9acd",
   "metadata": {},
   "source": [
    "The two missing values in the Embarked column were filled with the most common port of embarkation to maintain data consistency and avoid losing any records. This simple imputation helps ensure the dataset is complete without significantly affecting the overall distribution."
   ]
  },
  {
   "cell_type": "markdown",
   "id": "bcdefd3e-b8fd-4576-ba2c-26288532aaee",
   "metadata": {},
   "source": [
    "## 2. Passenger Demographics\n",
    "- What is the age distribution of passengers?\n",
    "- How many passengers are male vs female?\n",
    "- How many passengers traveled alone versus with family?"
   ]
  },
  {
   "cell_type": "markdown",
   "id": "502bf8c4-9bdc-4c15-9c76-be06a46c667c",
   "metadata": {},
   "source": [
    "#### 2.1. What is the age distribution of passengers?\n",
    "We can use a histogram or KDE plot:"
   ]
  },
  {
   "cell_type": "code",
   "execution_count": 129,
   "id": "b3774d6a-f0d9-407b-a83f-38d5b5675a80",
   "metadata": {},
   "outputs": [
    {
     "data": {
      "image/png": "[encoded data removed]",
      "text/plain": [
       "<Figure size 800x500 with 1 Axes>"
      ]
     },
     "metadata": {},
     "output_type": "display_data"
    }
   ],
   "source": [
    "import seaborn as sns\n",
    "import matplotlib.pyplot as plt\n",
    "\n",
    "plt.figure(figsize=(8, 5))\n",
    "sns.histplot(df['Age'], bins=30, kde=True)\n",
    "plt.title('Age Distribution of Passengers')\n",
    "plt.xlabel('Age')\n",
    "plt.ylabel('Count')\n",
    "plt.show()"
   ]
  },
  {
   "cell_type": "markdown",
   "id": "6e8c4513-9fa2-41dc-b000-0b819f2d475d",
   "metadata": {},
   "source": [
    "The age distribution of passengers shows that most travelers were between 20 and 40 years old, with a noticeable peak around age 30. A few very young and very old passengers were also on board, as indicated by the tails of the distribution."
   ]
  },
  {
   "cell_type": "markdown",
   "id": "e7bb415e-6955-46dc-81c1-78b531426f12",
   "metadata": {},
   "source": [
    "#### 2.2. How many passengers are male vs. female?\n",
    "Use value_counts() and plot it:"
   ]
  },
  {
   "cell_type": "code",
   "execution_count": 130,
   "id": "a8b0cf4a-a0d5-49ae-9045-4cf50eeaf586",
   "metadata": {},
   "outputs": [
    {
     "data": {
      "image/png": "[encoded data removed]",
      "text/plain": [
       "<Figure size 640x480 with 1 Axes>"
      ]
     },
     "metadata": {},
     "output_type": "display_data"
    },
    {
     "name": "stdout",
     "output_type": "stream",
     "text": [
      "Sex\n",
      "male      577\n",
      "female    314\n",
      "Name: count, dtype: int64\n"
     ]
    }
   ],
   "source": [
    "sns.countplot(x='Sex', data=df)\n",
    "plt.title('Passenger Gender Count')\n",
    "plt.xlabel('Sex')\n",
    "plt.ylabel('Count')\n",
    "plt.show()\n",
    "\n",
    "# Optional: also view raw counts\n",
    "print(df['Sex'].value_counts())"
   ]
  },
  {
   "cell_type": "markdown",
   "id": "0172832f-6054-44d3-a7fe-5b534d6f6877",
   "metadata": {},
   "source": [
    "There were significantly more male passengers than female passengers. The gender ratio is skewed, with males forming the majority of the dataset. This imbalance is important when analyzing survival rates and demographic trends."
   ]
  },
  {
   "cell_type": "markdown",
   "id": "564ee419-b8ac-4809-8da1-9638a4fe72cd",
   "metadata": {},
   "source": [
    "#### 2.3. How many passengers traveled alone vs. with family?\n",
    "Passengers with SibSp + Parch == 0 are considered alone."
   ]
  },
  {
   "cell_type": "code",
   "execution_count": 131,
   "id": "f2db2c86-4aab-4f0a-b55f-a652cd5471bf",
   "metadata": {},
   "outputs": [
    {
     "data": {
      "image/png": "[encoded data removed]",
      "text/plain": [
       "<Figure size 640x480 with 1 Axes>"
      ]
     },
     "metadata": {},
     "output_type": "display_data"
    },
    {
     "data": {
      "text/plain": [
       "Alone\n",
       "True     537\n",
       "False    354\n",
       "Name: count, dtype: int64"
      ]
     },
     "execution_count": 131,
     "metadata": {},
     "output_type": "execute_result"
    }
   ],
   "source": [
    "df['Alone'] = (df['SibSp'] + df['Parch'] == 0)\n",
    "\n",
    "sns.countplot(x='Alone', data=df)\n",
    "plt.title('Passengers Traveling Alone vs. With Family')\n",
    "plt.xlabel('Alone (True = Alone)')\n",
    "plt.ylabel('Count')\n",
    "plt.show()\n",
    "\n",
    "# Optional: counts\n",
    "df['Alone'].value_counts()"
   ]
  },
  {
   "cell_type": "markdown",
   "id": "2da998de-b363-482b-afa1-e70fcf5b4115",
   "metadata": {},
   "source": [
    "A large portion of the passengers traveled alone, while a smaller group was accompanied by family (spouse, siblings, parents, or children). This variable can later be analyzed in relation to survival outcomes to see if traveling with family had any advantage."
   ]
  },
  {
   "cell_type": "markdown",
   "id": "8c94a1a0-cdf8-4809-88e1-27534d773fe1",
   "metadata": {},
   "source": [
    "## 3. Survival Analysis\n",
    "- What percentage of passengers survived overall?\n",
    "- Did survival rates differ by gender?\n",
    "- How did passenger class affect survival?\n",
    "- Did age impact the likelihood of survival?"
   ]
  },
  {
   "cell_type": "markdown",
   "id": "0c45c3bc-98d8-4fc6-969f-e88140ca43ef",
   "metadata": {},
   "source": [
    "#### 3.1. What percentage of passengers survived overall?"
   ]
  },
  {
   "cell_type": "code",
   "execution_count": 132,
   "id": "503d3352-2351-4dae-9024-0b2fff1c64f2",
   "metadata": {},
   "outputs": [
    {
     "data": {
      "text/plain": [
       "'Overall Survival Rate: 38.38%'"
      ]
     },
     "execution_count": 132,
     "metadata": {},
     "output_type": "execute_result"
    }
   ],
   "source": [
    "survival_rate = df['Survived'].mean() * 100\n",
    "f\"Overall Survival Rate: {survival_rate:.2f}%\""
   ]
  },
  {
   "cell_type": "markdown",
   "id": "c38689ed-082e-44f9-a5e2-15a6c1b4f5ec",
   "metadata": {},
   "source": [
    "About 38% of passengers survived, indicating that the majority did not survive the disaster."
   ]
  },
  {
   "cell_type": "markdown",
   "id": "2f3db1c5-8e3f-477d-88aa-7c34245eaa85",
   "metadata": {},
   "source": [
    "#### 3.2. Did survival rates differ by gender?"
   ]
  },
  {
   "cell_type": "code",
   "execution_count": 133,
   "id": "4cadceb8-c88d-461d-8c62-510022abc045",
   "metadata": {},
   "outputs": [
    {
     "data": {
      "image/png": "[encoded data removed]",
      "text/plain": [
       "<Figure size 640x480 with 1 Axes>"
      ]
     },
     "metadata": {},
     "output_type": "display_data"
    },
    {
     "data": {
      "text/plain": [
       "Sex\n",
       "female    74.203822\n",
       "male      18.890815\n",
       "Name: Survived, dtype: float64"
      ]
     },
     "execution_count": 133,
     "metadata": {},
     "output_type": "execute_result"
    }
   ],
   "source": [
    "gender_survival = df.groupby('Sex')['Survived'].mean() * 100\n",
    "\n",
    "# Optional bar plot\n",
    "sns.barplot(x='Sex', y='Survived', data=df)\n",
    "plt.title('Survival Rate by Gender')\n",
    "plt.ylabel('Survival Rate')\n",
    "plt.show()\n",
    "\n",
    "gender_survival"
   ]
  },
  {
   "cell_type": "markdown",
   "id": "ab956264-3e21-4b2e-b692-af89b54c005f",
   "metadata": {},
   "source": [
    "Survival rates varied significantly by gender: about 74% of women survived, compared to only 19% of men. This suggests that women were prioritized during evacuation."
   ]
  },
  {
   "cell_type": "markdown",
   "id": "1e494dc2-df3f-4154-a43b-319a284367aa",
   "metadata": {},
   "source": [
    "#### 3.3. How did passenger class affect survival?"
   ]
  },
  {
   "cell_type": "code",
   "execution_count": 134,
   "id": "7fbcc4dd-2807-4d3e-8572-798368eeb7c6",
   "metadata": {},
   "outputs": [
    {
     "name": "stdout",
     "output_type": "stream",
     "text": [
      "Pclass\n",
      "1    62.962963\n",
      "2    47.282609\n",
      "3    24.236253\n",
      "Name: Survived, dtype: float64\n"
     ]
    },
    {
     "data": {
      "image/png": "[encoded data removed]",
      "text/plain": [
       "<Figure size 640x480 with 1 Axes>"
      ]
     },
     "metadata": {},
     "output_type": "display_data"
    }
   ],
   "source": [
    "class_survival = df.groupby('Pclass')['Survived'].mean() * 100\n",
    "print(class_survival)\n",
    "\n",
    "sns.barplot(x='Pclass', y='Survived', data=df)\n",
    "plt.title('Survival Rate by Passenger Class')\n",
    "plt.ylabel('Survival Rate')\n",
    "plt.show()"
   ]
  },
  {
   "cell_type": "markdown",
   "id": "538be9cd-d5e4-44ab-9363-6c615ec71ffe",
   "metadata": {},
   "source": [
    "First-class passengers had the highest survival rate (63%), while third class had the lowest (24%). This indicates that socioeconomic status played a role in survival."
   ]
  },
  {
   "cell_type": "markdown",
   "id": "b8a3d6e4-e98d-4f52-a0ea-0ee18c2eb2c3",
   "metadata": {},
   "source": [
    "#### 3.4. Did age impact the likelihood of survival?\n",
    "Use a KDE plot or boxplot:"
   ]
  },
  {
   "cell_type": "code",
   "execution_count": 135,
   "id": "df0e9ea1-1a5a-4427-acbb-d0267d24e5a1",
   "metadata": {},
   "outputs": [
    {
     "data": {
      "image/png": "[encoded data removed]",
      "text/plain": [
       "<Figure size 640x480 with 1 Axes>"
      ]
     },
     "metadata": {},
     "output_type": "display_data"
    }
   ],
   "source": [
    "sns.kdeplot(data=df[df['Survived'] == 1]['Age'], label='Survived', fill=True)\n",
    "sns.kdeplot(data=df[df['Survived'] == 0]['Age'], label='Did Not Survive', fill=True)\n",
    "plt.title('Age Distribution: Survived vs. Not Survived')\n",
    "plt.xlabel('Age')\n",
    "plt.legend()\n",
    "plt.show()"
   ]
  },
  {
   "cell_type": "markdown",
   "id": "10f8eacd-2503-4bdf-aeb4-54bbcb7a179e",
   "metadata": {},
   "source": [
    "Passengers who survived tended to be slightly younger, though the difference wasn’t drastic. There were also more children among the survivors, hinting at some priority for younger passengers."
   ]
  },
  {
   "cell_type": "markdown",
   "id": "6a36e715-c6b0-409d-80f8-4341024f7c7f",
   "metadata": {},
   "source": [
    "#### OR"
   ]
  },
  {
   "cell_type": "code",
   "execution_count": 136,
   "id": "0f52ab7c-1198-4557-b227-232df27c75b0",
   "metadata": {},
   "outputs": [
    {
     "data": {
      "text/plain": [
       "Text(0.5, 1.0, 'Age vs. Survival')"
      ]
     },
     "execution_count": 136,
     "metadata": {},
     "output_type": "execute_result"
    },
    {
     "data": {
      "image/png": "[encoded data removed]",
      "text/plain": [
       "<Figure size 640x480 with 1 Axes>"
      ]
     },
     "metadata": {},
     "output_type": "display_data"
    }
   ],
   "source": [
    "sns.boxplot(x='Survived', y='Age', data=df)\n",
    "plt.title('Age vs. Survival')"
   ]
  },
  {
   "cell_type": "markdown",
   "id": "079bd082-07ac-45e8-a077-19c7f10f20dc",
   "metadata": {},
   "source": [
    "In the Titanic dataset, the Survived column is binary encoded, where:\n",
    "\n",
    "0 = Did not survive\n",
    "\n",
    "1 = Survived\n",
    "\n",
    "The boxplot shows that survivors were generally a bit younger than non-survivors. The presence of younger children among survivors suggests they may have received priority during evacuation. However, there’s overlap in age ranges, meaning age alone didn't fully determine survival."
   ]
  },
  {
   "cell_type": "markdown",
   "id": "a8a8f6cd-1677-4771-8baa-c103c567d37f",
   "metadata": {},
   "source": [
    "## 4. Ticket and Fare Insights\n",
    "- How does the fare price relate to survival chances?\n",
    "- Are there differences in survival rates by port of embarkation?"
   ]
  },
  {
   "cell_type": "markdown",
   "id": "945bdb66-d5f3-4cb9-97d5-c0ad6934a7d2",
   "metadata": {},
   "source": [
    "#### 4.1. How does the fare price relate to survival chances?\n",
    "You want to see if passengers who paid higher fares were more likely to survive.\n",
    "\n",
    "Calculate average fare for survivors vs non-survivors, and visualize fare distribution by survival status."
   ]
  },
  {
   "cell_type": "code",
   "execution_count": 137,
   "id": "a4e107aa-70bf-46c3-8a11-65cc0c123039",
   "metadata": {},
   "outputs": [
    {
     "data": {
      "image/png": "[encoded data removed]",
      "text/plain": [
       "<Figure size 640x480 with 1 Axes>"
      ]
     },
     "metadata": {},
     "output_type": "display_data"
    },
    {
     "data": {
      "text/plain": [
       "Survived\n",
       "0    22.117887\n",
       "1    48.395408\n",
       "Name: Fare, dtype: float64"
      ]
     },
     "execution_count": 137,
     "metadata": {},
     "output_type": "execute_result"
    }
   ],
   "source": [
    "# Average fare by survival\n",
    "fare_survival = df.groupby('Survived')['Fare'].mean()\n",
    "\n",
    "sns.boxplot(x='Survived', y='Fare', data=df)\n",
    "plt.title('Fare vs Survival')\n",
    "plt.show()\n",
    "\n",
    "fare_survival"
   ]
  },
  {
   "cell_type": "markdown",
   "id": "69448be4-8056-4089-a26f-881aa8a84743",
   "metadata": {},
   "source": [
    "If survivors paid higher average fares, it might mean wealthier passengers had better survival chances. Here survivors paid an average fare of about $48 , while non-survivors paid around $22, showing higher fares may be linked to better survival chances."
   ]
  },
  {
   "cell_type": "markdown",
   "id": "541cd865-9a77-49b1-aa13-92b827b1ddd8",
   "metadata": {},
   "source": [
    "#### 4.2. Are there differences in survival rates by port of embarkation?\n",
    "We want to see if the port where passengers boarded (C = Cherbourg, Q = Queenstown, S = Southampton) affected survival.\n",
    "\n",
    "Calculate survival rate grouped by Embarked."
   ]
  },
  {
   "cell_type": "code",
   "execution_count": 138,
   "id": "d1ded1ab-67e7-42bb-9e8f-02c538e5761b",
   "metadata": {},
   "outputs": [
    {
     "data": {
      "text/plain": [
       "Embarked\n",
       "C    55.357143\n",
       "Q    38.961039\n",
       "S    33.900929\n",
       "Name: Survived, dtype: float64"
      ]
     },
     "execution_count": 138,
     "metadata": {},
     "output_type": "execute_result"
    }
   ],
   "source": [
    "survival_by_port = df.groupby('Embarked')['Survived'].mean() * 100\n",
    "survival_by_port"
   ]
  },
  {
   "cell_type": "markdown",
   "id": "d38a5fc4-2930-4d4e-b8cd-8b81a09fd5cd",
   "metadata": {},
   "source": [
    "Optional visualization:"
   ]
  },
  {
   "cell_type": "code",
   "execution_count": 139,
   "id": "7909eb62-5e8a-4eac-bef8-c471deda9bea",
   "metadata": {},
   "outputs": [
    {
     "data": {
      "image/png": "[encoded data removed]",
      "text/plain": [
       "<Figure size 640x480 with 1 Axes>"
      ]
     },
     "metadata": {},
     "output_type": "display_data"
    }
   ],
   "source": [
    "sns.barplot(x='Embarked', y='Survived', data=df)\n",
    "plt.title('Survival Rate by Port of Embarkation')\n",
    "plt.show()"
   ]
  },
  {
   "cell_type": "markdown",
   "id": "456737d8-8e96-4c6c-84d0-d5742590aa6d",
   "metadata": {},
   "source": [
    "Passengers who boarded at Cherbourg (C) had the highest survival rate at 55.4%, followed by Queenstown (Q) at 39.0%, and Southampton (S) at 33.9%. This shows clear differences in survival chances depending on the port of embarkation."
   ]
  },
  {
   "cell_type": "markdown",
   "id": "6e3112b4-5f9d-46fb-9da4-764d47a74899",
   "metadata": {},
   "source": [
    "## 5. Relationships and Patterns\n",
    "- Is there a relationship between having family onboard and survival?\n",
    "- Are there any interesting correlations between features that could impact survival?"
   ]
  },
  {
   "cell_type": "markdown",
   "id": "d1393718-6ce0-42a5-97da-617b5d9cffcc",
   "metadata": {},
   "source": [
    "#### 5.1. Is there a relationship between having family onboard and survival?\n",
    "\n",
    "Use the columns SibSp (siblings/spouses aboard) and Parch (parents/children aboard) to find out if a passenger had family onboard. Create a new column HasFamily that’s 1 if passenger had any family, 0 if alone. Compare survival rates of passengers with family vs. alone."
   ]
  },
  {
   "cell_type": "code",
   "execution_count": 140,
   "id": "a5aef5ea-8302-402b-9171-96c0f6e09aba",
   "metadata": {},
   "outputs": [
    {
     "data": {
      "text/plain": [
       "HasFamily\n",
       "0    30.353818\n",
       "1    50.564972\n",
       "Name: Survived, dtype: float64"
      ]
     },
     "execution_count": 140,
     "metadata": {},
     "output_type": "execute_result"
    }
   ],
   "source": [
    "df['HasFamily'] = np.where((df['SibSp'] + df['Parch']) > 0, 1, 0)\n",
    "family_survival = df.groupby('HasFamily')['Survived'].mean() * 100\n",
    "family_survival"
   ]
  },
  {
   "cell_type": "markdown",
   "id": "31ab430c-4ef7-4522-9051-974eba4297c7",
   "metadata": {},
   "source": [
    "Passengers traveling with family (HasFamily = 1) had a survival rate of about 50.6%, while those traveling alone (HasFamily = 0) had a lower survival rate of about 30.4%. This suggests having family onboard improved chances of survival."
   ]
  },
  {
   "cell_type": "markdown",
   "id": "7982b169-d57b-45db-87a7-977f9c488557",
   "metadata": {},
   "source": [
    "#### 5.2. Are there any interesting correlations between features that could impact survival?\n",
    "Calculate the correlation matrix of numeric features including Survived. Look for features strongly correlated with survival."
   ]
  },
  {
   "cell_type": "code",
   "execution_count": 141,
   "id": "06f4d97e-0d55-4a57-b05d-57dca8699b78",
   "metadata": {},
   "outputs": [
    {
     "data": {
      "text/plain": [
       "Survived       1.000000\n",
       "Fare           0.257307\n",
       "HasFamily      0.203367\n",
       "Parch          0.081629\n",
       "PassengerId   -0.005007\n",
       "SibSp         -0.035322\n",
       "Age           -0.064910\n",
       "Pclass        -0.338481\n",
       "Name: Survived, dtype: float64"
      ]
     },
     "execution_count": 141,
     "metadata": {},
     "output_type": "execute_result"
    }
   ],
   "source": [
    "numeric_df = df.select_dtypes(include=['number'])\n",
    "corr = numeric_df.corr()\n",
    "corr['Survived'].sort_values(ascending=False)"
   ]
  },
  {
   "cell_type": "markdown",
   "id": "5643890b-db10-4582-a085-195c5d1f85b4",
   "metadata": {},
   "source": [
    "There is a weak positive correlation between fare price (0.26) and survival, indicating that passengers who paid higher fares had better chances of surviving. Similarly, traveling with family (HasFamily, 0.20) slightly increased survival rates. Passenger class shows a moderate negative correlation (-0.34), meaning those in lower classes were less likely to survive. Age has a very small negative effect (-0.06), suggesting younger passengers had a slightly higher chance of survival. Other family-related features like Parch and SibSp show very weak correlations, and PassengerId has no meaningful relationship with survival."
   ]
  },
  {
   "cell_type": "markdown",
   "id": "9d046747-f3ef-4ff0-9904-c2c5a865dc6f",
   "metadata": {},
   "source": [
    "# Titanic Dataset Exploratory Data Analysis Report\n",
    "\n",
    "## Introduction  \n",
    "In this project, we explored the Titanic dataset to understand passenger demographics, survival rates, and other factors that influenced the tragedy. Our goals were to clean and prepare the data, perform meaningful visual and statistical analyses, and summarize key findings to lay the groundwork for predictive modeling.\n",
    "\n",
    "## Data Overview and Quality  \n",
    "We started by examining the dataset’s structure and quality. The dataset contains 891 passenger records with features like age, sex, ticket class, fare, and survival status. We identified missing values in the `Age`, `Cabin`, and `Embarked` columns. Since the `Cabin` data was mostly missing (about 77%), we dropped it. For `Embarked`, we filled missing values with the most common port ‘S’. For `Age`, we imputed missing values with the median age. This preparation ensured a clean dataset for analysis.\n",
    "\n",
    "## Passenger Demographics  \n",
    "Our demographic analysis revealed that the majority of passengers were male (about 65%), with a median age of 29 years. Most passengers traveled without family, but those traveling with family showed a higher survival rate. Age distribution was fairly wide, from infants to elderly passengers, which allowed us to investigate age’s impact on survival.\n",
    "\n",
    "## Survival Analysis  \n",
    "Overall, approximately 38% of passengers survived. Survival rates differed significantly by gender: nearly 74% of females survived compared to only 19% of males. Passenger class also affected survival chances—first-class passengers had a survival rate of about 63%, whereas third-class passengers had only around 24%. Younger passengers tended to have higher survival rates, as shown by age distribution plots among survivors.\n",
    "\n",
    "## Ticket and Fare Insights  \n",
    "We observed that passengers paying higher fares had better survival odds, likely reflecting socio-economic status and cabin location. Survival rates also varied by embarkation port, with passengers boarding from Cherbourg (C) showing the highest survival rate (~55%), followed by Queenstown (Q) and Southampton (S).\n",
    "\n",
    "## Relationships and Patterns  \n",
    "We created a new feature indicating whether passengers traveled with family. Those with family onboard had a survival rate of approximately 51%, significantly higher than the 30% for those traveling alone. Correlation analysis revealed that survival had the strongest positive correlation with fare (0.26) and family presence (0.20), and a strong negative correlation with passenger class (-0.34), indicating lower classes had lower survival chances.\n",
    "\n",
    "## Conclusion  \n",
    "Through our comprehensive exploratory analysis, we gained valuable insights into the factors influencing survival on the Titanic. Gender, class, fare paid, and family presence emerged as key predictors. This clean and well-understood dataset now provides a solid foundation for building predictive models to forecast survival outcomes.\n"
   ]
  },
  {
   "cell_type": "markdown",
   "id": "819a9117-b960-4ddb-969b-939751f6355e",
   "metadata": {},
   "source": [
    "# Titanic EDA project's interactive dashboard"
   ]
  },
  {
   "cell_type": "code",
   "execution_count": 146,
   "id": "183af49d-9e55-4503-b707-20fc7f610e90",
   "metadata": {},
   "outputs": [],
   "source": [
    "import pandas as pd\n",
    "import numpy as np\n",
    "import seaborn as sns\n",
    "import matplotlib.pyplot as plt\n",
    "from IPython.display import display, clear_output\n",
    "import ipywidgets as widgets\n",
    "\n",
    "# Dashboard Functions\n",
    "\n",
    "def data_overview():\n",
    "    clear_output(wait=True)\n",
    "    display(\"### 1. Data Overview and Quality ###\")\n",
    "    display(df.info())\n",
    "    display(df.describe(include='all').T)\n",
    "    display(df.isnull().sum())\n",
    "\n",
    "def passenger_demographics():\n",
    "    clear_output(wait=True)\n",
    "    display(\"### 2. Passenger Demographics ###\")\n",
    "    \n",
    "    # Age distribution\n",
    "    plt.figure(figsize=(8,4))\n",
    "    sns.histplot(df['Age'], bins=15, kde=True)\n",
    "    plt.title('Age Distribution')\n",
    "    plt.xlabel('Age')\n",
    "    plt.ylabel('Count')\n",
    "    plt.show()\n",
    "    \n",
    "    # Gender count\n",
    "    display(df['Sex'].value_counts())\n",
    "    \n",
    "    # Alone vs family\n",
    "    display(df['HasFamily'].value_counts())\n",
    "\n",
    "def survival_analysis():\n",
    "    clear_output(wait=True)\n",
    "    display(\"### 3. Survival Analysis ###\")\n",
    "    \n",
    "    # Overall survival rate\n",
    "    survival_rate = df['Survived'].mean() * 100\n",
    "    display(f\"Overall survival rate: {survival_rate:.2f}%\")\n",
    "    \n",
    "    # Survival by gender\n",
    "    display(df.groupby('Sex')['Survived'].mean() * 100)\n",
    "    \n",
    "    # Survival by class\n",
    "    display(df.groupby('Pclass')['Survived'].mean() * 100)\n",
    "    \n",
    "    # Age vs survival boxplot\n",
    "    plt.figure(figsize=(6,4))\n",
    "    sns.boxplot(x='Survived', y='Age', data=df)\n",
    "    plt.title('Age vs Survival')\n",
    "    plt.show()\n",
    "\n",
    "def ticket_and_fare():\n",
    "    clear_output(wait=True)\n",
    "    display(\"### 4. Ticket and Fare Insights ###\")\n",
    "    \n",
    "    # Fare vs survival boxplot\n",
    "    plt.figure(figsize=(6,4))\n",
    "    sns.boxplot(x='Survived', y='Fare', data=df)\n",
    "    plt.title('Fare vs Survival')\n",
    "    plt.show()\n",
    "    \n",
    "    # Survival rate by Embarked port\n",
    "    display(df.groupby('Embarked')['Survived'].mean() * 100)\n",
    "\n",
    "def relationships_and_patterns():\n",
    "    clear_output(wait=True)\n",
    "    display(\"### 5. Relationships and Patterns ###\")\n",
    "    \n",
    "    # Survival rate with family or alone\n",
    "    display(df.groupby('HasFamily')['Survived'].mean() * 100)\n",
    "    \n",
    "    # Correlation matrix heatmap for numeric columns\n",
    "    plt.figure(figsize=(8,6))\n",
    "    corr = df.corr()\n",
    "    sns.heatmap(corr, annot=True, cmap='coolwarm', fmt=\".2f\")\n",
    "    plt.title('Correlation Heatmap')\n",
    "    plt.show()\n",
    "\n",
    "# Create navigation buttons\n",
    "buttons = widgets.ToggleButtons(\n",
    "    options=[\n",
    "        'Data Overview',\n",
    "        'Passenger Demographics',\n",
    "        'Survival Analysis',\n",
    "        'Ticket and Fare Insights',\n",
    "        'Relationships and Patterns'\n",
    "    ],\n",
    "    description='Select:',\n",
    "    disabled=False,\n",
    "    button_style='info',\n",
    ")\n",
    "\n",
    "out = widgets.Output()\n",
    "\n",
    "def on_button_change(change):\n",
    "    if change['name'] == 'value' and change['new']:\n",
    "        if change['new'] == 'Data Overview':\n",
    "            data_overview()\n",
    "        elif change['new'] == 'Passenger Demographics':\n",
    "            passenger_demographics()\n",
    "        elif change['new'] == 'Survival Analysis':\n",
    "            survival_analysis()\n",
    "        elif change['new'] == 'Ticket and Fare Insights':\n",
    "            ticket_and_fare()\n",
    "        elif change['new'] == 'Relationships and Patterns':\n",
    "            relationships_and_patterns()\n",
    "\n",
    "buttons.observe(on_button_change)\n",
    "\n",
    "display(buttons, out)\n",
    "\n",
    "# Show default view\n",
    "with out:\n",
    "    data_overview()\n"
   ]
  },
  {
   "cell_type": "code",
   "execution_count": null,
   "id": "bc6fa237-9f5e-4efe-b76d-9bee2b86a581",
   "metadata": {},
   "outputs": [],
   "source": []
  },
  {
   "cell_type": "code",
   "execution_count": null,
   "id": "c547be90-c6a2-43a8-959d-6971a1d8313d",
   "metadata": {},
   "outputs": [],
   "source": []
  },
  {
   "cell_type": "code",
   "execution_count": null,
   "id": "8aec67c8-d805-4a35-8b9d-d5cd58ebb084",
   "metadata": {},
   "outputs": [],
   "source": []
  },
  {
   "cell_type": "code",
   "execution_count": null,
   "id": "3e1535ee-d4c4-4129-b0ff-d8297bd9ecfc",
   "metadata": {},
   "outputs": [],
   "source": []
  },
  {
   "cell_type": "code",
   "execution_count": null,
   "id": "3893d910-8a00-44c1-8ae6-5dac313657fa",
   "metadata": {},
   "outputs": [],
   "source": []
  },
  {
   "cell_type": "code",
   "execution_count": null,
   "id": "b4b8d23e-b996-4281-944b-120a98ba8ee6",
   "metadata": {},
   "outputs": [],
   "source": []
  },
  {
   "cell_type": "code",
   "execution_count": null,
   "id": "53279dfe-54de-4c76-be76-be978f60aa4a",
   "metadata": {},
   "outputs": [],
   "source": []
  },
  {
   "cell_type": "code",
   "execution_count": null,
   "id": "d7a88a58-87c5-440f-a500-de2d21067d34",
   "metadata": {},
   "outputs": [],
   "source": []
  },
  {
   "cell_type": "code",
   "execution_count": null,
   "id": "b830895e-51b2-4301-aa1f-8ba4e40b98b6",
   "metadata": {},
   "outputs": [],
   "source": []
  }
 ],
 "metadata": {
  "kernelspec": {
   "display_name": "Python 3 (ipykernel)",
   "language": "python",
   "name": "python3"
  },
  "language_info": {
   "codemirror_mode": {
    "name": "ipython",
    "version": 3
   },
   "file_extension": ".py",
   "mimetype": "text/x-python",
   "name": "python",
   "nbconvert_exporter": "python",
   "pygments_lexer": "ipython3",
   "version": "3.12.7"
  }
 },
 "nbformat": 4,
 "nbformat_minor": 5
}
